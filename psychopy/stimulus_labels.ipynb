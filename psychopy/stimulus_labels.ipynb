{
 "cells": [
  {
   "cell_type": "code",
   "execution_count": 42,
   "id": "7d5f265e-407a-40bd-92fb-a652091fd7ea",
   "metadata": {
    "tags": []
   },
   "outputs": [],
   "source": [
    "import os\n",
    "import shutil\n",
    "import sys\n",
    "import json\n",
    "import argparse\n",
    "import numpy as np\n",
    "import math\n",
    "from einops import rearrange\n",
    "import time\n",
    "import random\n",
    "import string\n",
    "from tqdm import tqdm\n",
    "import re\n",
    "import matplotlib.pyplot as plt\n",
    "import torch\n",
    "import torch.nn as nn\n",
    "from torchvision import transforms\n",
    "import imageio\n",
    "\n",
    "device = \"cuda\"\n",
    "\n",
    "# tf32 data type is faster than standard float32\n",
    "torch.backends.cuda.matmul.allow_tf32 = True"
   ]
  },
  {
   "cell_type": "code",
   "execution_count": 43,
   "id": "14abfa8c-accf-41ac-b4ec-dd4e45f5522b",
   "metadata": {},
   "outputs": [
    {
     "name": "stdout",
     "output_type": "stream",
     "text": [
      "pets_underground_tastes\n"
     ]
    }
   ],
   "source": [
    "def convert_to_snake_case(input_string):\n",
    "    # Convert the string to lowercase\n",
    "    lowercased_string = input_string.lower()\n",
    "    # Remove apostrophes followed by 's'\n",
    "    no_apostrophe_s = re.sub(r\"'s\\b\", \"s\", lowercased_string)\n",
    "    # Remove all other non-alphanumeric characters\n",
    "    cleaned_string = re.sub(r'[^a-z0-9\\s]+', '', no_apostrophe_s)\n",
    "    # Replace spaces with underscores\n",
    "    snake_case_string = cleaned_string.replace(\" \", \"_\")\n",
    "    return snake_case_string\n",
    "\n",
    "# Example usage\n",
    "input_string = \"Pets', underground, taste's.\"\n",
    "output_string = convert_to_snake_case(input_string)\n",
    "print(output_string) "
   ]
  },
  {
   "cell_type": "code",
   "execution_count": 44,
   "id": "b1e75e32-32c0-4f99-b2ef-dc9f0f31f017",
   "metadata": {},
   "outputs": [],
   "source": [
    "import anthropic\n",
    "import base64\n",
    "import os\n",
    "from dotenv import load_dotenv\n",
    "\n",
    "# Load environment variables\n",
    "load_dotenv()\n",
    "\n",
    "# Initialize the Anthropic client\n",
    "client = anthropic.Anthropic(\n",
    "    api_key=os.getenv(\"ANTHROPIC_API_KEY\")\n",
    ")\n",
    "\n",
    "def encode_image(image_path):\n",
    "    with open(image_path, \"rb\") as image_file:\n",
    "        return base64.b64encode(image_file.read()).decode('utf-8')\n",
    "\n",
    "def caption_image(image_path):\n",
    "    # Encode the image\n",
    "    base64_image = encode_image(image_path)\n",
    "\n",
    "    # Create the message with the image\n",
    "    message = client.messages.create(\n",
    "        model=\"claude-3-5-sonnet-20240620\",\n",
    "        max_tokens=100,\n",
    "        messages=[\n",
    "            {\n",
    "                \"role\": \"user\",\n",
    "                \"content\": [\n",
    "                    {\n",
    "                        \"type\": \"image\",\n",
    "                        \"source\": {\n",
    "                            \"type\": \"base64\",\n",
    "                            \"media_type\": \"image/jpeg\",\n",
    "                            \"data\": base64_image\n",
    "                        }\n",
    "                    },\n",
    "                    {\n",
    "                        \"type\": \"text\",\n",
    "                        \"text\": \"Analyze image and describe it with exactly three words. The three words should allow someone to understand what image was out of a pool of many images. If there is an object in the foreground, describe that instead of the general setting.\"\n",
    "                    }\n",
    "                ]\n",
    "            }\n",
    "        ]\n",
    "    )\n",
    "\n",
    "    # Return the generated caption\n",
    "    return message.content[0].text"
   ]
  },
  {
   "cell_type": "code",
   "execution_count": 61,
   "id": "379e481a-bdd1-46c2-b8db-38d14ebad770",
   "metadata": {
    "scrolled": true
   },
   "outputs": [
    {
     "name": "stdout",
     "output_type": "stream",
     "text": [
      "16 child_on_tv\n",
      "19 empire_state_building\n",
      "200 emotional_fatherdaughter_embrace\n",
      "271 father_daughter_portrait\n",
      "314 three_people_smiling\n",
      "350 colorful_fruit_stand\n",
      "524 group_of_children\n",
      "581 man_crouching_outdoors\n",
      "602 family_gathering_snapshot\n",
      "624 mustached_man_smiling\n",
      "627 three_young_girls\n",
      "658 child_crouching_curiously\n",
      "699 smiling_couple_portrait\n",
      "766 colorful_flower_display\n",
      "773 fruit_store_storefront\n",
      "811 store_owner_posing\n",
      "838 fresh_produce_market\n"
     ]
    }
   ],
   "source": [
    "for ii,filename in enumerate(os.listdir(\"stimuli\")):\n",
    "    if filename.endswith('.jpg'):\n",
    "        if \"album\" in filename:\n",
    "            image_path = \"stimuli/\"+filename\n",
    "            caption = caption_image(image_path)\n",
    "            \n",
    "            result = convert_to_snake_case(caption)\n",
    "            print(ii, result) \n",
    "            \n",
    "            # Move and rename the file\n",
    "            old_name = image_path.split(\".jpg\")[0].split(\"stimuli/\")[-1]\n",
    "            shutil.copy2(image_path, f\"stimuli_labeled/{old_name}__{result}.jpg\")"
   ]
  },
  {
   "cell_type": "code",
   "execution_count": 46,
   "id": "03f6a93b-7938-49c6-b65f-5b652012d950",
   "metadata": {},
   "outputs": [
    {
     "data": {
      "text/plain": [
       "105"
      ]
     },
     "execution_count": 46,
     "metadata": {},
     "output_type": "execute_result"
    }
   ],
   "source": [
    "# REMOVE \n",
    "# coco_nonshared_12610.jpg\n",
    "# coco_nonshared_9298__magazineembedded_furniture_leg.jpg\n",
    "# coco_nonshared_34275__antiobama_protest_signs.jpg\n",
    "# coco_nonshared_54382__dead_animals_dissection.jpg"
   ]
  },
  {
   "cell_type": "code",
   "execution_count": 63,
   "id": "f558bc8e-939f-40ec-9a28-eec49309f056",
   "metadata": {},
   "outputs": [
    {
     "name": "stdout",
     "output_type": "stream",
     "text": [
      "coco_nonshared 379\n",
      "coco_shared 483\n",
      "extras 50\n",
      "albums 17\n",
      "targets 3\n",
      "total 932\n",
      "total w repeats 1582\n"
     ]
    }
   ],
   "source": [
    "coco_nonshared = 0\n",
    "coco_shared = 0\n",
    "extras = 0\n",
    "targets = 0\n",
    "albums = 0\n",
    "for ii,filename in enumerate(os.listdir(\"stimuli_labeled\")):\n",
    "    if \"coco_nonshared\" in filename:\n",
    "        coco_nonshared+=1\n",
    "    elif \"coco_shared\" in filename:\n",
    "        coco_shared+=1\n",
    "    elif \"extra\" in filename:\n",
    "        extras+=1\n",
    "    elif \"target\" in filename:\n",
    "        targets+=1\n",
    "    elif \"album\" in filename:\n",
    "        albums+=1\n",
    "    # if \"dead\" in filename:\n",
    "    #     print(filename)\n",
    "    # elif \"magazineembedded\" in filename:\n",
    "    #     print(filename)\n",
    "    # elif \"obama\" in filename:\n",
    "    #     print(filename)\n",
    "    # elif (\"naked\" in filename) or (\"nude\" in filename):\n",
    "    #     print(filename)\n",
    "print(\"coco_nonshared\", coco_nonshared)\n",
    "print(\"coco_shared\", coco_shared)\n",
    "print(\"extras\", extras)\n",
    "print(\"albums\", albums)\n",
    "print(\"targets\", targets)\n",
    "print(\"total\", ii)\n",
    "print(\"total w repeats\", coco_nonshared + (coco_shared*2) + (albums*3) + (extras*3) + (targets*12))"
   ]
  },
  {
   "cell_type": "code",
   "execution_count": 59,
   "id": "ca310da7-c82c-4899-a6d8-3d4e8f06d73b",
   "metadata": {},
   "outputs": [
    {
     "data": {
      "text/plain": [
       "1200.0"
      ]
     },
     "execution_count": 59,
     "metadata": {},
     "output_type": "execute_result"
    }
   ],
   "source": [
    "3000/2.5"
   ]
  },
  {
   "cell_type": "code",
   "execution_count": 58,
   "id": "d10696e9-d571-46ff-8c4a-41347643813d",
   "metadata": {},
   "outputs": [
    {
     "data": {
      "text/plain": [
       "2.5"
      ]
     },
     "execution_count": 58,
     "metadata": {},
     "output_type": "execute_result"
    }
   ],
   "source": [
    "10/4"
   ]
  },
  {
   "cell_type": "code",
   "execution_count": null,
   "id": "5542680c-4a7b-4afb-aba9-5b1ee5f1cbe0",
   "metadata": {},
   "outputs": [],
   "source": []
  }
 ],
 "metadata": {
  "kernelspec": {
   "display_name": "found2",
   "language": "python",
   "name": "found2"
  },
  "language_info": {
   "codemirror_mode": {
    "name": "ipython",
    "version": 3
   },
   "file_extension": ".py",
   "mimetype": "text/x-python",
   "name": "python",
   "nbconvert_exporter": "python",
   "pygments_lexer": "ipython3",
   "version": "3.12.4"
  }
 },
 "nbformat": 4,
 "nbformat_minor": 5
}
