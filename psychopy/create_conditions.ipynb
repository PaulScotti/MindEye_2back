{
 "cells": [
  {
   "cell_type": "code",
   "execution_count": 237,
   "id": "7d5f265e-407a-40bd-92fb-a652091fd7ea",
   "metadata": {
    "tags": []
   },
   "outputs": [],
   "source": [
    "import os\n",
    "import shutil\n",
    "import sys\n",
    "import json\n",
    "import argparse\n",
    "import numpy as np\n",
    "import math\n",
    "from einops import rearrange\n",
    "import time\n",
    "import random\n",
    "import string\n",
    "from tqdm import tqdm\n",
    "import re\n",
    "import matplotlib.pyplot as plt\n",
    "import torch\n",
    "import torch.nn as nn\n",
    "from torchvision import transforms\n",
    "import imageio\n",
    "import pandas as pd\n",
    "import glob\n",
    "\n",
    "device = \"cuda\"\n",
    "\n",
    "# tf32 data type is faster than standard float32\n",
    "torch.backends.cuda.matmul.allow_tf32 = True"
   ]
  },
  {
   "cell_type": "code",
   "execution_count": 238,
   "id": "b15fb310-1bc1-44c1-9e40-0acb58381dde",
   "metadata": {},
   "outputs": [],
   "source": [
    "def get_images(prefix, folder_path=\"stimuli_labeled/\"):\n",
    "    search_pattern = os.path.join(folder_path, prefix)\n",
    "    image_files = glob.glob(search_pattern)\n",
    "    return image_files"
   ]
  },
  {
   "cell_type": "code",
   "execution_count": 239,
   "id": "fc8bcfac-2239-4b91-84c0-0bac3e13db0c",
   "metadata": {},
   "outputs": [],
   "source": [
    "all_images = [\n",
    "    get_images(\"album*.jpg\"),\n",
    "    get_images(\"album*.jpg\"),\n",
    "    get_images(\"extra*.jpg\"),\n",
    "    get_images(\"extra*.jpg\"),\n",
    "    get_images(\"coco_shared*.jpg\"), \n",
    "    get_images(\"coco_shared*.jpg\"),\n",
    "    get_images(\"coco_nonshared*.jpg\")[:-30], # need to remove 20 of these to fit design\n",
    "    get_images(\"target*.jpg\"),\n",
    "    get_images(\"target*.jpg\"),\n",
    "    get_images(\"target*.jpg\"),\n",
    "    get_images(\"target*.jpg\"),\n",
    "    get_images(\"target*.jpg\"),\n",
    "    get_images(\"target*.jpg\"),\n",
    "    get_images(\"target*.jpg\"),\n",
    "    get_images(\"target*.jpg\"),\n",
    "    get_images(\"target*.jpg\"),\n",
    "    get_images(\"target*.jpg\"),\n",
    "    get_images(\"target*.jpg\"),\n",
    "    get_images(\"target*.jpg\"),\n",
    "]"
   ]
  },
  {
   "cell_type": "code",
   "execution_count": 240,
   "id": "d77fa72f-9817-452d-bbe0-52451fbf554c",
   "metadata": {},
   "outputs": [
    {
     "name": "stdout",
     "output_type": "stream",
     "text": [
      "1485\n"
     ]
    }
   ],
   "source": [
    "# flatten\n",
    "all_images_shuffled = [item for sublist in all_images for item in sublist]\n",
    "print(len(all_images_shuffled))"
   ]
  },
  {
   "cell_type": "code",
   "execution_count": 241,
   "id": "417decf8-459e-4032-b84b-f3afb1d04b22",
   "metadata": {},
   "outputs": [
    {
     "name": "stdout",
     "output_type": "stream",
     "text": [
      "num_runs_total 45\n",
      "total_trials 1620\n",
      "total_trials_no_blanks 1485\n"
     ]
    }
   ],
   "source": [
    "num_sessions = 3\n",
    "num_runs_total = 15 * num_sessions\n",
    "trials_per_run = 36\n",
    "total_trials = (trials_per_run * num_runs_total)\n",
    "print(\"num_runs_total\", num_runs_total)\n",
    "print(\"total_trials\", total_trials)\n",
    "print(\"total_trials_no_blanks\", total_trials - (3 * num_runs_total))\n",
    "\n",
    "assert len(all_images_shuffled) == total_trials - (3 * num_runs_total)\n",
    "\n",
    "def blank_generator(seed):\n",
    "    random.seed(seed)\n",
    "    random_numbers = [\n",
    "        random.randint(8, 13),\n",
    "        random.randint(18, 23),\n",
    "        trials_per_run-1]\n",
    "    return random_numbers\n",
    "\n",
    "run_to_blanks = [blank_generator(r) for r in range(num_runs_total)]\n",
    "# run_to_blanks"
   ]
  },
  {
   "cell_type": "code",
   "execution_count": 242,
   "id": "14abfa8c-accf-41ac-b4ec-dd4e45f5522b",
   "metadata": {},
   "outputs": [],
   "source": [
    "p_id=0\n",
    "random.seed(p_id)\n",
    "\n",
    "# shuffle image order\n",
    "random.seed(p_id)\n",
    "random.shuffle(all_images_shuffled)\n",
    "\n",
    "participant_path = \"conditions_files/participant\" + str(p_id)\n",
    "os.makedirs(\"conditions_files\",exist_ok=True)\n",
    "\n",
    "current_image_list = []\n",
    "is_repeat_list = []\n",
    "run_num_list = []\n",
    "is_new_run_list = []\n",
    "is_blank_trial_list = []\n",
    "trial_index_list = []\n",
    "image_index = 0\n",
    "all_blanks_list_list = []\n",
    "previous_image_list = []\n",
    "for run_num in range(num_runs_total):\n",
    "    blank_trial_indices = run_to_blanks[run_num]\n",
    "    for trial_index in range(trials_per_run):\n",
    "        run_num_list.append(run_num)\n",
    "        all_blanks_list_list.append(blank_trial_indices)\n",
    "        trial_index_list.append(trial_index)\n",
    "        \n",
    "        if trial_index == 0:\n",
    "            previous_image_list.append(\"blank\")\n",
    "        else:\n",
    "            previous_image_list.append(previous_image)\n",
    "            \n",
    "        if trial_index == (trials_per_run - 1) and run_num != (num_runs_total - 1):\n",
    "            is_new_run_list.append(1)\n",
    "        else:\n",
    "            is_new_run_list.append(0)\n",
    "\n",
    "        if trial_index in blank_trial_indices:\n",
    "            current_image_list.append(\"blank.jpg\")\n",
    "            previous_image = \"blank\"\n",
    "            is_blank_trial_list.append(1)\n",
    "            is_repeat_list.append(0)\n",
    "        else:\n",
    "            image_path = all_images_shuffled[image_index]\n",
    "            if \"images/\" + image_path in current_image_list:\n",
    "                is_repeat_list.append(1)\n",
    "            else:\n",
    "                is_repeat_list.append(0)\n",
    "            current_image_list.append(\"images/\" + image_path)\n",
    "            is_blank_trial_list.append(0)\n",
    "            previous_image = image_path.split(\"__\")[-1].split(\".jpg\")[0].replace(\"_\",\"\\n\")\n",
    "\n",
    "            image_index += 1\n",
    "            \n",
    "# output study and test\n",
    "output_dict = {\"current_image\": current_image_list,\n",
    "               \"is_repeat\": is_repeat_list,\n",
    "               \"trial_index\": trial_index_list,\n",
    "               \"is_blank_trial\":is_blank_trial_list,\n",
    "               \"is_new_run\": is_new_run_list,\n",
    "               \"run_num\": run_num_list,\n",
    "               \"previous_image\": previous_image_list,\n",
    "               \"all_blanks_list\": all_blanks_list_list}\n",
    "output_df = pd.DataFrame(output_dict)\n",
    "study_test_file_path = participant_path + \".csv\"\n",
    "output_df.to_csv(study_test_file_path, index = False)"
   ]
  }
 ],
 "metadata": {
  "kernelspec": {
   "display_name": "found2",
   "language": "python",
   "name": "found2"
  },
  "language_info": {
   "codemirror_mode": {
    "name": "ipython",
    "version": 3
   },
   "file_extension": ".py",
   "mimetype": "text/x-python",
   "name": "python",
   "nbconvert_exporter": "python",
   "pygments_lexer": "ipython3",
   "version": "3.12.4"
  }
 },
 "nbformat": 4,
 "nbformat_minor": 5
}
