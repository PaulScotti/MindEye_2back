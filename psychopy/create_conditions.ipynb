{
 "cells": [
  {
   "cell_type": "code",
   "execution_count": 163,
   "id": "7d5f265e-407a-40bd-92fb-a652091fd7ea",
   "metadata": {
    "tags": []
   },
   "outputs": [],
   "source": [
    "import os\n",
    "import shutil\n",
    "import sys\n",
    "import json\n",
    "import argparse\n",
    "import numpy as np\n",
    "import math\n",
    "from einops import rearrange\n",
    "import time\n",
    "import random\n",
    "import string\n",
    "from tqdm import tqdm\n",
    "import re\n",
    "import matplotlib.pyplot as plt\n",
    "import torch\n",
    "import torch.nn as nn\n",
    "from torchvision import transforms\n",
    "import imageio\n",
    "import pandas as pd\n",
    "import glob\n",
    "\n",
    "device = \"cuda\"\n",
    "\n",
    "# tf32 data type is faster than standard float32\n",
    "torch.backends.cuda.matmul.allow_tf32 = True"
   ]
  },
  {
   "cell_type": "code",
   "execution_count": 164,
   "id": "b15fb310-1bc1-44c1-9e40-0acb58381dde",
   "metadata": {
    "tags": []
   },
   "outputs": [],
   "source": [
    "def get_images(prefix, folder_path=\"stimuli_labeled/\"):\n",
    "    search_pattern = os.path.join(folder_path, prefix)\n",
    "    image_files = glob.glob(search_pattern)\n",
    "    return image_files"
   ]
  },
  {
   "cell_type": "code",
   "execution_count": 165,
   "id": "fc8bcfac-2239-4b91-84c0-0bac3e13db0c",
   "metadata": {
    "tags": []
   },
   "outputs": [],
   "source": [
    "all_images = [\n",
    "    get_images(\"album*.jpg\"),\n",
    "    get_images(\"album*.jpg\"),\n",
    "    get_images(\"extra*.jpg\"),\n",
    "    get_images(\"extra*.jpg\"),\n",
    "    get_images(\"coco_shared*.jpg\"),\n",
    "    get_images(\"coco_shared*.jpg\")[:175],\n",
    "    get_images(\"coco_shared*.jpg\")[:175],\n",
    "    get_images(\"coco_nonshared*.jpg\")[:-2],\n",
    "    get_images(\"target*.jpg\"),\n",
    "    get_images(\"target*.jpg\"),\n",
    "    get_images(\"target*.jpg\"),\n",
    "    get_images(\"target*.jpg\"),\n",
    "    get_images(\"target*.jpg\"),\n",
    "    get_images(\"target*.jpg\"),\n",
    "    get_images(\"target*.jpg\"),\n",
    "    get_images(\"target*.jpg\"),\n",
    "    get_images(\"target*.jpg\"),\n",
    "    get_images(\"target*.jpg\"),\n",
    "    get_images(\"target*.jpg\"),\n",
    "    get_images(\"target*.jpg\"),\n",
    "    get_images(\"target*.jpg\"),\n",
    "    get_images(\"target*.jpg\"),\n",
    "]"
   ]
  },
  {
   "cell_type": "code",
   "execution_count": 166,
   "id": "d77fa72f-9817-452d-bbe0-52451fbf554c",
   "metadata": {
    "tags": []
   },
   "outputs": [
    {
     "name": "stdout",
     "output_type": "stream",
     "text": [
      "1386\n"
     ]
    }
   ],
   "source": [
    "# flatten\n",
    "all_images_shuffled = [item for sublist in all_images for item in sublist]\n",
    "print(len(all_images_shuffled))\n",
    "# 1440"
   ]
  },
  {
   "cell_type": "code",
   "execution_count": 167,
   "id": "417decf8-459e-4032-b84b-f3afb1d04b22",
   "metadata": {
    "tags": []
   },
   "outputs": [
    {
     "name": "stdout",
     "output_type": "stream",
     "text": [
      "num_runs 14\n",
      "num_runs_total 42\n",
      "total_trials 1512\n",
      "total_trials_no_blanks 1386\n",
      "total_trials_per_run 36.0\n",
      "total_trials_no_blanks_per_run 33.0\n",
      "seconds_per_run 333.0\n"
     ]
    }
   ],
   "source": [
    "num_sessions = 3\n",
    "num_runs = 14\n",
    "num_runs_total = num_runs * num_sessions\n",
    "trials_per_run = 36\n",
    "total_trials = (trials_per_run * num_runs_total)\n",
    "print(\"num_runs\", num_runs)\n",
    "print(\"num_runs_total\", num_runs_total)\n",
    "\n",
    "print(\"total_trials\", total_trials)\n",
    "print(\"total_trials_no_blanks\", total_trials - (3 * num_runs_total))\n",
    "\n",
    "print(\"total_trials_per_run\", total_trials / num_runs_total)\n",
    "print(\"total_trials_no_blanks_per_run\", (total_trials - (3 * num_runs_total))/ num_runs_total)\n",
    "\n",
    "print(\"seconds_per_run\", (total_trials / num_runs_total) * 9 + 9)\n",
    "# NOTE: adding 9-second blank at end of every run (9 makes it evenly divisible by our TR of 1.8 s)\n",
    "\n",
    "assert len(all_images_shuffled) == total_trials - (3 * num_runs_total)\n",
    "\n",
    "def blank_generator(seed):\n",
    "    random.seed(seed)\n",
    "    random_numbers = [\n",
    "        random.randint(8, 13),\n",
    "        random.randint(18, 23),\n",
    "        trials_per_run-1]\n",
    "    return random_numbers\n",
    "\n",
    "run_to_blanks = [blank_generator(r) for r in range(num_runs_total)]\n",
    "# run_to_blanks"
   ]
  },
  {
   "cell_type": "code",
   "execution_count": 168,
   "id": "14abfa8c-accf-41ac-b4ec-dd4e45f5522b",
   "metadata": {
    "tags": []
   },
   "outputs": [],
   "source": [
    "p_id=1\n",
    "random.seed(p_id)\n",
    "\n",
    "# shuffle image order\n",
    "random.seed(p_id)\n",
    "random.shuffle(all_images_shuffled)\n",
    "\n",
    "participant_path = \"conditions_files/participant\" + str(p_id)\n",
    "os.makedirs(\"conditions_files\",exist_ok=True)\n",
    "\n",
    "image_index = 0\n",
    "for sess_num in range(num_sessions):\n",
    "    for run_num in range(num_runs):\n",
    "        current_image_list = []\n",
    "        is_repeat_list = []\n",
    "        run_num_list = []\n",
    "        is_new_run_list = []\n",
    "        is_blank_trial_list = []\n",
    "        trial_index_list = []\n",
    "        all_blanks_list_list = []\n",
    "        previous_image_list = []\n",
    "        is_not_last_trial_list = []\n",
    "        sess_num_list = []\n",
    "        \n",
    "        blank_trial_indices = run_to_blanks[run_num]\n",
    "        for trial_index in range(trials_per_run):\n",
    "            run_num_list.append(run_num)\n",
    "            sess_num_list.append(sess_num)\n",
    "            all_blanks_list_list.append(blank_trial_indices)\n",
    "            trial_index_list.append(trial_index)\n",
    "\n",
    "            if trial_index == 0:\n",
    "                previous_image_list.append(\"blank\")\n",
    "            else:\n",
    "                previous_image_list.append(previous_image)\n",
    "                \n",
    "            if trial_index == trials_per_run-1:\n",
    "                is_not_last_trial_list.append(0)\n",
    "            else:\n",
    "                is_not_last_trial_list.append(1)\n",
    "\n",
    "            if trial_index == (trials_per_run - 1) and run_num != (num_runs - 1):\n",
    "                is_new_run_list.append(1)\n",
    "            else:\n",
    "                is_new_run_list.append(0)\n",
    "\n",
    "            if trial_index in blank_trial_indices:\n",
    "                current_image_list.append(\"blank.jpg\")\n",
    "                previous_image = \"blank\"\n",
    "                is_blank_trial_list.append(1)\n",
    "                is_repeat_list.append(0)\n",
    "            else:\n",
    "                image_path = all_images_shuffled[image_index]\n",
    "                if image_path in current_image_list:\n",
    "                    is_repeat_list.append(1)\n",
    "                else:\n",
    "                    is_repeat_list.append(0)\n",
    "                current_image_list.append(image_path)\n",
    "                is_blank_trial_list.append(0)\n",
    "                previous_image = image_path.split(\"__\")[-1].split(\".jpg\")[0].replace(\"_\",\"\\n\")\n",
    "\n",
    "                image_index += 1\n",
    "            \n",
    "        # output study and test\n",
    "        output_dict = {\"current_image\": current_image_list,\n",
    "                       \"is_repeat\": is_repeat_list,\n",
    "                       \"trial_index\": trial_index_list,\n",
    "                       \"is_blank_trial\":is_blank_trial_list,\n",
    "                       \"is_new_run\": is_new_run_list,\n",
    "                       \"run_num\": run_num_list,\n",
    "                       \"sess_num\": sess_num_list,\n",
    "                       \"previous_image\": previous_image_list,\n",
    "                       \"is_not_last_trial\": is_not_last_trial_list,\n",
    "                       \"all_blanks_list\": all_blanks_list_list}\n",
    "        output_df = pd.DataFrame(output_dict)\n",
    "        study_test_file_path = participant_path + \"_run\" + str(run_num) + \"_sess\" + str(sess_num) + \".csv\"\n",
    "        output_df.to_csv(study_test_file_path, index = False)"
   ]
  },
  {
   "cell_type": "code",
   "execution_count": null,
   "id": "ff07d0a5-a442-48a6-92df-f851345e0c5f",
   "metadata": {},
   "outputs": [],
   "source": []
  },
  {
   "cell_type": "code",
   "execution_count": null,
   "id": "2a1ca178-2c97-42e4-9194-57af4aa983e7",
   "metadata": {},
   "outputs": [],
   "source": []
  }
 ],
 "metadata": {
  "kernelspec": {
   "display_name": "pygers",
   "language": "python",
   "name": "pygers"
  },
  "language_info": {
   "codemirror_mode": {
    "name": "ipython",
    "version": 3
   },
   "file_extension": ".py",
   "mimetype": "text/x-python",
   "name": "python",
   "nbconvert_exporter": "python",
   "pygments_lexer": "ipython3",
   "version": "3.7.13"
  }
 },
 "nbformat": 4,
 "nbformat_minor": 5
}
